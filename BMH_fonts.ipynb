{
 "cells": [
  {
   "cell_type": "markdown",
   "metadata": {},
   "source": [
    "## Render Characters"
   ]
  },
  {
   "cell_type": "code",
   "execution_count": 1,
   "metadata": {
    "collapsed": false
   },
   "outputs": [
    {
     "name": "stdout",
     "output_type": "stream",
     "text": [
      "-------------------------------------------------------------------------\n",
      " TTF2BMH Version 2.0.1 (C) 2019, jdmorise@yahoo.com\n",
      " \n",
      " A conversion tool for Truetype Fonts to bitmap C header files \n",
      " for any character for use with monochrome LCD or OLED displays \n",
      " \n",
      "-------------------------------------------------------------------------\n",
      "-------------------------------------------------------------------------\n",
      "TTF2BMH Finished\n"
     ]
    }
   ],
   "source": [
    "%run ../TTF2BMH/src/ttf2bmh.py -f \"./ttf_fonts/\" -s all -c ../TTF2BMH/characters_ascii.txt  --variable_width -o \"./bmh_fonts/bmh_char/\"\n"
   ]
  },
  {
   "cell_type": "markdown",
   "metadata": {},
   "source": [
    "## Render Digits\n",
    "\n"
   ]
  },
  {
   "cell_type": "code",
   "execution_count": null,
   "metadata": {
    "collapsed": false
   },
   "outputs": [],
   "source": [
    "%run ../TTF2BMH/src/ttf2bmh.py -f \"./ttf_fonts/\" -s all -c ../TTF2BMH/characters_digits.txt  --variable_width -o \"./bmh_fonts/bmh_digits/\"\n"
   ]
  },
  {
   "cell_type": "code",
   "execution_count": null,
   "metadata": {
    "collapsed": true
   },
   "outputs": [],
   "source": []
  }
 ],
 "metadata": {
  "kernelspec": {
   "display_name": "Python 3",
   "language": "python",
   "name": "python3"
  },
  "language_info": {
   "codemirror_mode": {
    "name": "ipython",
    "version": 3
   },
   "file_extension": ".py",
   "mimetype": "text/x-python",
   "name": "python",
   "nbconvert_exporter": "python",
   "pygments_lexer": "ipython3",
   "version": "3.5.1"
  }
 },
 "nbformat": 4,
 "nbformat_minor": 0
}
